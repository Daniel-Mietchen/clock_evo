{
 "cells": [
  {
   "cell_type": "code",
   "execution_count": 1,
   "metadata": {
    "collapsed": true
   },
   "outputs": [],
   "source": [
    "import numpy as np\n",
    "import pandas as pd\n",
    "import matplotlib.pyplot as plt\n",
    "import seaborn as sns\n",
    "\n",
    "%matplotlib inline"
   ]
  },
  {
   "cell_type": "code",
   "execution_count": 32,
   "metadata": {
    "collapsed": true
   },
   "outputs": [],
   "source": [
    "sns.set_style('whitegrid')"
   ]
  },
  {
   "cell_type": "code",
   "execution_count": 63,
   "metadata": {
    "collapsed": false
   },
   "outputs": [
    {
     "name": "stdout",
     "output_type": "stream",
     "text": [
      "# Avida Average Data\n",
      "# Tue Oct 18 12:45:34 2016\n",
      "#  1: Update\n",
      "#  2: Merit\n",
      "#  3: Gestation Time\n",
      "#  4: Fitness\n",
      "#  5: Repro Rate?\n",
      "#  6: (deprecated) Size\n",
      "#  7: Copied Size\n",
      "#  8: Executed Size\n",
      "#  9: (deprecated) Abundance\n",
      "# 10: Proportion of organisms that gave birth in this update\n",
      "# 11: Proportion of Breed True Organisms\n",
      "# 12: (deprecated) Genotype Depth\n",
      "# 13: Generation\n",
      "# 14: Neutral Metric\n",
      "# 15: Lineage Label\n",
      "# 16: True Replication Rate (based on births/update, time-averaged)\n",
      "\n",
      "# Avida count data\n",
      "# Tue Oct 18 12:45:34 2016\n",
      "#  1: update\n",
      "#  2: number of insts executed this update\n",
      "#  3: number of organisms\n",
      "#  4: number of different genotypes\n",
      "#  5: number of different threshold genotypes\n",
      "#  6: (deprecated) number of different species\n",
      "#  7: (deprecated) number of different threshold species\n",
      "#  8: (deprecated) number of different lineages\n",
      "#  9: number of births in this update\n",
      "# 10: number of deaths in this update\n",
      "# 11: number of breed true\n",
      "# 12: number of breed true organisms?\n",
      "# 13: number of no-birth organisms\n",
      "# 14: number of single-threaded organisms\n",
      "# 15: number of multi-threaded organisms\n",
      "# 16: number of modified organisms\n",
      "\n",
      "# Avida Dominant Data\n",
      "# Tue Oct 18 12:45:34 2016\n",
      "#  1: Update\n",
      "#  2: Average Merit of the Dominant Genotype\n",
      "#  3: Average Gestation Time of the Dominant Genotype\n",
      "#  4: Average Fitness of the Dominant Genotype\n",
      "#  5: Repro Rate?\n",
      "#  6: Size of Dominant Genotype\n",
      "#  7: Copied Size of Dominant Genotype\n",
      "#  8: Executed Size of Dominant Genotype\n",
      "#  9: Abundance of Dominant Genotype\n",
      "# 10: Number of Births\n",
      "# 11: Number of Dominant Breed True?\n",
      "# 12: Dominant Gene Depth\n",
      "# 13: Dominant Breed In\n",
      "# 14: Max Fitness?\n",
      "# 15: Genotype ID of Dominant Genotype\n",
      "# 16: Name of the Dominant Genotype\n",
      "\n",
      "# Avida resource data\n",
      "# Tue Oct 18 12:45:34 2016\n",
      "# First column gives the current update, all further columns give the quantity\n",
      "# of the particular resource at that update.\n",
      "#  1: Update\n",
      "#  2: day\n",
      "\n",
      "# Avida time data\n",
      "# Tue Oct 18 12:45:34 2016\n",
      "#  1: update\n",
      "#  2: avida time\n",
      "#  3: average generation\n",
      "#  4: num_executed?\n",
      "\n",
      "# Avida tasks data\n",
      "# Tue Oct 18 12:45:34 2016\n",
      "# First column gives the current update, next columns give the number\n",
      "# of organisms that have the particular task as a component of their merit\n",
      "#  1: Update\n",
      "#  2: Not\n",
      "#  3: Nand\n",
      "#  4: And\n",
      "#  5: OrNot\n"
     ]
    }
   ],
   "source": [
    "%%bash\n",
    "\n",
    "head -19 ../avida_files/clock/data/average.dat\n",
    "head -19 ../avida_files/clock/data/count.dat\n",
    "head -19 ../avida_files/clock/data/dominant.dat\n",
    "head -7 ../avida_files/clock/data/resource.dat\n",
    "head -7 ../avida_files/clock/data/time.dat\n",
    "head -9 ../avida_files/clock/data/tasks.dat"
   ]
  },
  {
   "cell_type": "code",
   "execution_count": 91,
   "metadata": {
    "collapsed": false
   },
   "outputs": [
    {
     "data": {
      "text/html": [
       "<div>\n",
       "<table border=\"1\" class=\"dataframe\">\n",
       "  <thead>\n",
       "    <tr style=\"text-align: right;\">\n",
       "      <th></th>\n",
       "      <th>update</th>\n",
       "      <th>day</th>\n",
       "    </tr>\n",
       "  </thead>\n",
       "  <tbody>\n",
       "    <tr>\n",
       "      <th>1075</th>\n",
       "      <td>10760</td>\n",
       "      <td>0.0</td>\n",
       "    </tr>\n",
       "    <tr>\n",
       "      <th>1076</th>\n",
       "      <td>10770</td>\n",
       "      <td>0.0</td>\n",
       "    </tr>\n",
       "    <tr>\n",
       "      <th>1077</th>\n",
       "      <td>10780</td>\n",
       "      <td>0.0</td>\n",
       "    </tr>\n",
       "    <tr>\n",
       "      <th>1078</th>\n",
       "      <td>10790</td>\n",
       "      <td>0.0</td>\n",
       "    </tr>\n",
       "    <tr>\n",
       "      <th>1079</th>\n",
       "      <td>10800</td>\n",
       "      <td>0.0</td>\n",
       "    </tr>\n",
       "  </tbody>\n",
       "</table>\n",
       "</div>"
      ],
      "text/plain": [
       "      update  day\n",
       "1075   10760  0.0\n",
       "1076   10770  0.0\n",
       "1077   10780  0.0\n",
       "1078   10790  0.0\n",
       "1079   10800  0.0"
      ]
     },
     "execution_count": 91,
     "metadata": {},
     "output_type": "execute_result"
    }
   ],
   "source": [
    "columns = ['update','day','']#,'night','']\n",
    "\n",
    "df_res = pd.read_table('../avida_files/clock/data/resource.dat',\n",
    "                           delimiter=' ', skiprows=8, header=None)\n",
    "\n",
    "df_res.columns = columns\n",
    "df_res = df_res.dropna(axis=1)\n",
    "\n",
    "df_res.tail()"
   ]
  },
  {
   "cell_type": "code",
   "execution_count": 92,
   "metadata": {
    "collapsed": false
   },
   "outputs": [
    {
     "data": {
      "text/plain": [
       "<matplotlib.axes._subplots.AxesSubplot at 0x7fcff56ac048>"
      ]
     },
     "execution_count": 92,
     "metadata": {},
     "output_type": "execute_result"
    },
    {
     "data": {
      "image/png": "[encoded data removed]",
      "text/plain": [
       "<matplotlib.figure.Figure at 0x7fcff518a7b8>"
      ]
     },
     "metadata": {},
     "output_type": "display_data"
    }
   ],
   "source": [
    "df_res.plot('update',['day'], kind='line', ls='-', lw=1)\n",
    "\n",
    "#plt.xlim(0,1000)\n",
    "#plt.ylim(-100,10100)"
   ]
  },
  {
   "cell_type": "code",
   "execution_count": 93,
   "metadata": {
    "collapsed": false
   },
   "outputs": [
    {
     "data": {
      "text/html": [
       "<div>\n",
       "<table border=\"1\" class=\"dataframe\">\n",
       "  <thead>\n",
       "    <tr style=\"text-align: right;\">\n",
       "      <th></th>\n",
       "      <th>update</th>\n",
       "      <th>not</th>\n",
       "      <th>nand</th>\n",
       "      <th>and</th>\n",
       "      <th>ornot</th>\n",
       "    </tr>\n",
       "  </thead>\n",
       "  <tbody>\n",
       "    <tr>\n",
       "      <th>1071</th>\n",
       "      <td>10760</td>\n",
       "      <td>0</td>\n",
       "      <td>0</td>\n",
       "      <td>0</td>\n",
       "      <td>0</td>\n",
       "    </tr>\n",
       "    <tr>\n",
       "      <th>1072</th>\n",
       "      <td>10770</td>\n",
       "      <td>0</td>\n",
       "      <td>0</td>\n",
       "      <td>0</td>\n",
       "      <td>0</td>\n",
       "    </tr>\n",
       "    <tr>\n",
       "      <th>1073</th>\n",
       "      <td>10780</td>\n",
       "      <td>0</td>\n",
       "      <td>0</td>\n",
       "      <td>0</td>\n",
       "      <td>0</td>\n",
       "    </tr>\n",
       "    <tr>\n",
       "      <th>1074</th>\n",
       "      <td>10790</td>\n",
       "      <td>0</td>\n",
       "      <td>0</td>\n",
       "      <td>0</td>\n",
       "      <td>0</td>\n",
       "    </tr>\n",
       "    <tr>\n",
       "      <th>1075</th>\n",
       "      <td>10800</td>\n",
       "      <td>0</td>\n",
       "      <td>0</td>\n",
       "      <td>0</td>\n",
       "      <td>0</td>\n",
       "    </tr>\n",
       "  </tbody>\n",
       "</table>\n",
       "</div>"
      ],
      "text/plain": [
       "      update  not  nand  and  ornot\n",
       "1071   10760    0     0    0      0\n",
       "1072   10770    0     0    0      0\n",
       "1073   10780    0     0    0      0\n",
       "1074   10790    0     0    0      0\n",
       "1075   10800    0     0    0      0"
      ]
     },
     "execution_count": 93,
     "metadata": {},
     "output_type": "execute_result"
    }
   ],
   "source": [
    "columns = ['update','not','nand','and','ornot',''] #'or','andnot','nor','xor','equals',\n",
    "\n",
    "df_tasks = pd.read_table('../avida_files/clock/data/tasks.dat',\n",
    "                         delimiter=' ', skiprows=15, header=None)\n",
    "\n",
    "df_tasks.columns = columns\n",
    "df_tasks = df_tasks.dropna(axis=1)\n",
    "\n",
    "df_tasks.tail()"
   ]
  },
  {
   "cell_type": "code",
   "execution_count": 94,
   "metadata": {
    "collapsed": false
   },
   "outputs": [
    {
     "data": {
      "text/plain": [
       "<matplotlib.axes._subplots.AxesSubplot at 0x7fcff5093cc0>"
      ]
     },
     "execution_count": 94,
     "metadata": {},
     "output_type": "execute_result"
    },
    {
     "data": {
      "image/png": "[encoded data removed]",
      "text/plain": [
       "<matplotlib.figure.Figure at 0x7fcff528fb38>"
      ]
     },
     "metadata": {},
     "output_type": "display_data"
    }
   ],
   "source": [
    "df_tasks.plot('update', ['not','nand','and','ornot'])\n",
    "#df_tasks.plot('update', ['or','andnot','nor'])"
   ]
  },
  {
   "cell_type": "code",
   "execution_count": 95,
   "metadata": {
    "collapsed": false
   },
   "outputs": [
    {
     "data": {
      "text/html": [
       "<div>\n",
       "<table border=\"1\" class=\"dataframe\">\n",
       "  <thead>\n",
       "    <tr style=\"text-align: right;\">\n",
       "      <th></th>\n",
       "      <th>update</th>\n",
       "      <th>merit</th>\n",
       "      <th>gestation_time</th>\n",
       "      <th>fitness</th>\n",
       "      <th>repro_rate</th>\n",
       "      <th>(deprecated)_size</th>\n",
       "      <th>copied_size</th>\n",
       "      <th>executed_size</th>\n",
       "      <th>(deprecated)_abundance</th>\n",
       "      <th>proportion_of_organisms_that_gave_birth_in_this_update</th>\n",
       "      <th>proportion_of_breed_true_organisms</th>\n",
       "      <th>(deprecated)_genotype_depth</th>\n",
       "      <th>generation</th>\n",
       "      <th>neutral_metric</th>\n",
       "      <th>lineage_label</th>\n",
       "      <th>true_replication_rate_(based_on_births/update_time-averaged)</th>\n",
       "    </tr>\n",
       "  </thead>\n",
       "  <tbody>\n",
       "    <tr>\n",
       "      <th>0</th>\n",
       "      <td>0</td>\n",
       "      <td>97.0</td>\n",
       "      <td>389.0</td>\n",
       "      <td>0.0</td>\n",
       "      <td>0</td>\n",
       "      <td>0</td>\n",
       "      <td>100.0</td>\n",
       "      <td>97.0</td>\n",
       "      <td>0</td>\n",
       "      <td>1.0</td>\n",
       "      <td>1.0</td>\n",
       "      <td>0</td>\n",
       "      <td>0.0</td>\n",
       "      <td>0.0</td>\n",
       "      <td>0</td>\n",
       "      <td>0.0</td>\n",
       "    </tr>\n",
       "    <tr>\n",
       "      <th>1</th>\n",
       "      <td>10</td>\n",
       "      <td>97.0</td>\n",
       "      <td>389.0</td>\n",
       "      <td>0.0</td>\n",
       "      <td>0</td>\n",
       "      <td>0</td>\n",
       "      <td>100.0</td>\n",
       "      <td>97.0</td>\n",
       "      <td>0</td>\n",
       "      <td>0.0</td>\n",
       "      <td>0.0</td>\n",
       "      <td>0</td>\n",
       "      <td>0.0</td>\n",
       "      <td>0.0</td>\n",
       "      <td>0</td>\n",
       "      <td>0.0</td>\n",
       "    </tr>\n",
       "    <tr>\n",
       "      <th>2</th>\n",
       "      <td>20</td>\n",
       "      <td>97.0</td>\n",
       "      <td>389.0</td>\n",
       "      <td>0.0</td>\n",
       "      <td>0</td>\n",
       "      <td>0</td>\n",
       "      <td>100.0</td>\n",
       "      <td>97.0</td>\n",
       "      <td>0</td>\n",
       "      <td>0.0</td>\n",
       "      <td>0.0</td>\n",
       "      <td>0</td>\n",
       "      <td>0.0</td>\n",
       "      <td>0.0</td>\n",
       "      <td>0</td>\n",
       "      <td>0.0</td>\n",
       "    </tr>\n",
       "    <tr>\n",
       "      <th>3</th>\n",
       "      <td>30</td>\n",
       "      <td>97.0</td>\n",
       "      <td>389.0</td>\n",
       "      <td>0.0</td>\n",
       "      <td>0</td>\n",
       "      <td>0</td>\n",
       "      <td>100.0</td>\n",
       "      <td>97.0</td>\n",
       "      <td>0</td>\n",
       "      <td>0.0</td>\n",
       "      <td>0.0</td>\n",
       "      <td>0</td>\n",
       "      <td>0.0</td>\n",
       "      <td>0.0</td>\n",
       "      <td>0</td>\n",
       "      <td>0.0</td>\n",
       "    </tr>\n",
       "    <tr>\n",
       "      <th>4</th>\n",
       "      <td>40</td>\n",
       "      <td>97.0</td>\n",
       "      <td>389.0</td>\n",
       "      <td>0.0</td>\n",
       "      <td>0</td>\n",
       "      <td>0</td>\n",
       "      <td>100.0</td>\n",
       "      <td>97.0</td>\n",
       "      <td>0</td>\n",
       "      <td>0.0</td>\n",
       "      <td>0.0</td>\n",
       "      <td>0</td>\n",
       "      <td>0.0</td>\n",
       "      <td>0.0</td>\n",
       "      <td>0</td>\n",
       "      <td>0.0</td>\n",
       "    </tr>\n",
       "  </tbody>\n",
       "</table>\n",
       "</div>"
      ],
      "text/plain": [
       "   update  merit  gestation_time  fitness  repro_rate  (deprecated)_size  \\\n",
       "0       0   97.0           389.0      0.0           0                  0   \n",
       "1      10   97.0           389.0      0.0           0                  0   \n",
       "2      20   97.0           389.0      0.0           0                  0   \n",
       "3      30   97.0           389.0      0.0           0                  0   \n",
       "4      40   97.0           389.0      0.0           0                  0   \n",
       "\n",
       "   copied_size  executed_size  (deprecated)_abundance  \\\n",
       "0        100.0           97.0                       0   \n",
       "1        100.0           97.0                       0   \n",
       "2        100.0           97.0                       0   \n",
       "3        100.0           97.0                       0   \n",
       "4        100.0           97.0                       0   \n",
       "\n",
       "   proportion_of_organisms_that_gave_birth_in_this_update  \\\n",
       "0                                                1.0        \n",
       "1                                                0.0        \n",
       "2                                                0.0        \n",
       "3                                                0.0        \n",
       "4                                                0.0        \n",
       "\n",
       "   proportion_of_breed_true_organisms  (deprecated)_genotype_depth  \\\n",
       "0                                 1.0                            0   \n",
       "1                                 0.0                            0   \n",
       "2                                 0.0                            0   \n",
       "3                                 0.0                            0   \n",
       "4                                 0.0                            0   \n",
       "\n",
       "   generation  neutral_metric  lineage_label  \\\n",
       "0         0.0             0.0              0   \n",
       "1         0.0             0.0              0   \n",
       "2         0.0             0.0              0   \n",
       "3         0.0             0.0              0   \n",
       "4         0.0             0.0              0   \n",
       "\n",
       "   true_replication_rate_(based_on_births/update_time-averaged)  \n",
       "0                                                0.0             \n",
       "1                                                0.0             \n",
       "2                                                0.0             \n",
       "3                                                0.0             \n",
       "4                                                0.0             "
      ]
     },
     "execution_count": 95,
     "metadata": {},
     "output_type": "execute_result"
    }
   ],
   "source": [
    "columns = ['update','merit','gestation_time','fitness','repro_rate',\n",
    "           '(deprecated)_size','copied_size','executed_size',\n",
    "           '(deprecated)_abundance','proportion_of_organisms_that_gave_birth_in_this_update',\n",
    "           'proportion_of_breed_true_organisms','(deprecated)_genotype_depth',\n",
    "           'generation','neutral_metric','lineage_label',\n",
    "           'true_replication_rate_(based_on_births/update_time-averaged)','']\n",
    "\n",
    "df_average = pd.read_table('../avida_files/clock/data/average.dat',\n",
    "                           delimiter=' ', skiprows=19, header=None)\n",
    "\n",
    "df_average.columns = columns\n",
    "df_average = df_average.dropna(axis=1)\n",
    "\n",
    "df_average.head()"
   ]
  },
  {
   "cell_type": "code",
   "execution_count": 96,
   "metadata": {
    "collapsed": false
   },
   "outputs": [
    {
     "data": {
      "text/html": [
       "<div>\n",
       "<table border=\"1\" class=\"dataframe\">\n",
       "  <thead>\n",
       "    <tr style=\"text-align: right;\">\n",
       "      <th></th>\n",
       "      <th>update</th>\n",
       "      <th>average_merit</th>\n",
       "      <th>average_gestation_time</th>\n",
       "      <th>average fitness</th>\n",
       "      <th>repro_rate</th>\n",
       "      <th>size</th>\n",
       "      <th>copied_size</th>\n",
       "      <th>executed_size</th>\n",
       "      <th>abundance</th>\n",
       "      <th>number_of_births</th>\n",
       "      <th>number_of_dominant_breed</th>\n",
       "      <th>dominant_gene_depth</th>\n",
       "      <th>dominant_breed_in</th>\n",
       "      <th>max_fitness</th>\n",
       "      <th>genotype_ID</th>\n",
       "      <th>name</th>\n",
       "    </tr>\n",
       "  </thead>\n",
       "  <tbody>\n",
       "    <tr>\n",
       "      <th>0</th>\n",
       "      <td>0</td>\n",
       "      <td>0</td>\n",
       "      <td>0</td>\n",
       "      <td>0.0</td>\n",
       "      <td>0.0</td>\n",
       "      <td>100</td>\n",
       "      <td>0.0</td>\n",
       "      <td>0</td>\n",
       "      <td>1</td>\n",
       "      <td>0</td>\n",
       "      <td>0</td>\n",
       "      <td>0</td>\n",
       "      <td>0</td>\n",
       "      <td>2.225070e-308</td>\n",
       "      <td>1</td>\n",
       "      <td>100-aaaaa</td>\n",
       "    </tr>\n",
       "    <tr>\n",
       "      <th>1</th>\n",
       "      <td>10</td>\n",
       "      <td>0</td>\n",
       "      <td>0</td>\n",
       "      <td>0.0</td>\n",
       "      <td>0.0</td>\n",
       "      <td>100</td>\n",
       "      <td>0.0</td>\n",
       "      <td>0</td>\n",
       "      <td>1</td>\n",
       "      <td>0</td>\n",
       "      <td>0</td>\n",
       "      <td>0</td>\n",
       "      <td>0</td>\n",
       "      <td>2.225070e-308</td>\n",
       "      <td>1</td>\n",
       "      <td>100-aaaaa</td>\n",
       "    </tr>\n",
       "    <tr>\n",
       "      <th>2</th>\n",
       "      <td>20</td>\n",
       "      <td>0</td>\n",
       "      <td>0</td>\n",
       "      <td>0.0</td>\n",
       "      <td>0.0</td>\n",
       "      <td>100</td>\n",
       "      <td>0.0</td>\n",
       "      <td>0</td>\n",
       "      <td>1</td>\n",
       "      <td>0</td>\n",
       "      <td>0</td>\n",
       "      <td>0</td>\n",
       "      <td>0</td>\n",
       "      <td>2.225070e-308</td>\n",
       "      <td>1</td>\n",
       "      <td>100-aaaaa</td>\n",
       "    </tr>\n",
       "    <tr>\n",
       "      <th>3</th>\n",
       "      <td>30</td>\n",
       "      <td>0</td>\n",
       "      <td>0</td>\n",
       "      <td>0.0</td>\n",
       "      <td>0.0</td>\n",
       "      <td>100</td>\n",
       "      <td>0.0</td>\n",
       "      <td>0</td>\n",
       "      <td>1</td>\n",
       "      <td>0</td>\n",
       "      <td>0</td>\n",
       "      <td>0</td>\n",
       "      <td>0</td>\n",
       "      <td>2.225070e-308</td>\n",
       "      <td>1</td>\n",
       "      <td>100-aaaaa</td>\n",
       "    </tr>\n",
       "    <tr>\n",
       "      <th>4</th>\n",
       "      <td>40</td>\n",
       "      <td>0</td>\n",
       "      <td>0</td>\n",
       "      <td>0.0</td>\n",
       "      <td>0.0</td>\n",
       "      <td>100</td>\n",
       "      <td>0.0</td>\n",
       "      <td>0</td>\n",
       "      <td>1</td>\n",
       "      <td>0</td>\n",
       "      <td>0</td>\n",
       "      <td>0</td>\n",
       "      <td>0</td>\n",
       "      <td>2.225070e-308</td>\n",
       "      <td>1</td>\n",
       "      <td>100-aaaaa</td>\n",
       "    </tr>\n",
       "  </tbody>\n",
       "</table>\n",
       "</div>"
      ],
      "text/plain": [
       "   update  average_merit  average_gestation_time  average fitness  repro_rate  \\\n",
       "0       0              0                       0              0.0         0.0   \n",
       "1      10              0                       0              0.0         0.0   \n",
       "2      20              0                       0              0.0         0.0   \n",
       "3      30              0                       0              0.0         0.0   \n",
       "4      40              0                       0              0.0         0.0   \n",
       "\n",
       "   size  copied_size  executed_size  abundance  number_of_births  \\\n",
       "0   100          0.0              0          1                 0   \n",
       "1   100          0.0              0          1                 0   \n",
       "2   100          0.0              0          1                 0   \n",
       "3   100          0.0              0          1                 0   \n",
       "4   100          0.0              0          1                 0   \n",
       "\n",
       "   number_of_dominant_breed  dominant_gene_depth  dominant_breed_in  \\\n",
       "0                         0                    0                  0   \n",
       "1                         0                    0                  0   \n",
       "2                         0                    0                  0   \n",
       "3                         0                    0                  0   \n",
       "4                         0                    0                  0   \n",
       "\n",
       "     max_fitness  genotype_ID       name  \n",
       "0  2.225070e-308            1  100-aaaaa  \n",
       "1  2.225070e-308            1  100-aaaaa  \n",
       "2  2.225070e-308            1  100-aaaaa  \n",
       "3  2.225070e-308            1  100-aaaaa  \n",
       "4  2.225070e-308            1  100-aaaaa  "
      ]
     },
     "execution_count": 96,
     "metadata": {},
     "output_type": "execute_result"
    }
   ],
   "source": [
    "columns = ['update','average_merit','average_gestation_time',\n",
    "           'average fitness','repro_rate','size','copied_size',\n",
    "           'executed_size','abundance','number_of_births',\n",
    "           'number_of_dominant_breed','dominant_gene_depth',\n",
    "           'dominant_breed_in','max_fitness','genotype_ID','name','']\n",
    "\n",
    "df_dominant = pd.read_table('../avida_files/clock/data/dominant.dat',\n",
    "                            delimiter=' ', skiprows=19, header=None)\n",
    "\n",
    "df_dominant.columns = columns\n",
    "df_dominant = df_dominant.dropna(axis=1)\n",
    "\n",
    "df_dominant.head()"
   ]
  },
  {
   "cell_type": "code",
   "execution_count": 97,
   "metadata": {
    "collapsed": false
   },
   "outputs": [
    {
     "data": {
      "image/png": "[encoded data removed]",
      "text/plain": [
       "<matplotlib.figure.Figure at 0x7fcff5487668>"
      ]
     },
     "metadata": {},
     "output_type": "display_data"
    }
   ],
   "source": [
    "fig, ax = plt.subplots(1,1)\n",
    "\n",
    "ax.plot(df_average['update'], df_average['merit'], label='population merit')\n",
    "ax.plot(df_average['update'], df_dominant['average_merit'], label='dominant merit')\n",
    "\n",
    "ax.set_yscale('log', basey=10)\n",
    "\n",
    "ax.set_xlim(0,10000)\n",
    "ax.set_ylim(1,10e12)\n",
    "\n",
    "\n",
    "ax.set_xticklabels(list(range(0,11,2)))\n",
    "\n",
    "ax.set_xlabel('Updates (x$10^4$)')\n",
    "ax.set_ylabel('Computational Merit')\n",
    "\n",
    "ax.legend(loc='best');"
   ]
  },
  {
   "cell_type": "code",
   "execution_count": 98,
   "metadata": {
    "collapsed": false
   },
   "outputs": [
    {
     "data": {
      "text/plain": [
       "<matplotlib.axes._subplots.AxesSubplot at 0x7fcff50ee7b8>"
      ]
     },
     "execution_count": 98,
     "metadata": {},
     "output_type": "execute_result"
    },
    {
     "data": {
      "image/png": "[encoded data removed]",
      "text/plain": [
       "<matplotlib.figure.Figure at 0x7fcff54a29b0>"
      ]
     },
     "metadata": {},
     "output_type": "display_data"
    },
    {
     "data": {
      "image/png": "[encoded data removed]",
      "text/plain": [
       "<matplotlib.figure.Figure at 0x7fcff4f6c710>"
      ]
     },
     "metadata": {},
     "output_type": "display_data"
    }
   ],
   "source": [
    "df_average.plot('update', 'gestation_time')\n",
    "df_average.plot('update', 'fitness', logy=True)"
   ]
  },
  {
   "cell_type": "code",
   "execution_count": 99,
   "metadata": {
    "collapsed": false
   },
   "outputs": [
    {
     "data": {
      "image/png": "[encoded data removed]",
      "text/plain": [
       "<matplotlib.figure.Figure at 0x7fcff51d6f60>"
      ]
     },
     "metadata": {},
     "output_type": "display_data"
    }
   ],
   "source": [
    "fig, ax = plt.subplots(1,1)\n",
    "\n",
    "ax.plot(df_average['update'], df_average['copied_size'], label='population genome size')\n",
    "ax.plot(df_average['update'], df_dominant['copied_size'], label='dominant genome size')\n",
    "\n",
    "ax.set_xticklabels(list(range(0,11,2)))\n",
    "\n",
    "ax.set_xlabel('Updates (x$10^3$)')\n",
    "ax.set_ylabel('Genome Size')\n",
    "\n",
    "ax.legend(loc='best');"
   ]
  },
  {
   "cell_type": "markdown",
   "metadata": {},
   "source": [
    "## Complex Organisms\n",
    "\n",
    "This data was generated to get an idea how a normal result looks like."
   ]
  },
  {
   "cell_type": "code",
   "execution_count": 75,
   "metadata": {
    "collapsed": false
   },
   "outputs": [
    {
     "name": "stdout",
     "output_type": "stream",
     "text": [
      "# Avida Average Data\n",
      "# Tue Oct 18 13:18:33 2016\n",
      "#  1: Update\n",
      "#  2: Merit\n",
      "#  3: Gestation Time\n",
      "#  4: Fitness\n",
      "#  5: Repro Rate?\n",
      "#  6: (deprecated) Size\n",
      "#  7: Copied Size\n",
      "#  8: Executed Size\n",
      "#  9: (deprecated) Abundance\n",
      "# 10: Proportion of organisms that gave birth in this update\n",
      "# 11: Proportion of Breed True Organisms\n",
      "# 12: (deprecated) Genotype Depth\n",
      "# 13: Generation\n",
      "# 14: Neutral Metric\n",
      "# 15: Lineage Label\n",
      "# 16: True Replication Rate (based on births/update, time-averaged)\n",
      "\n",
      "# Avida count data\n",
      "# Tue Oct 18 13:18:33 2016\n",
      "#  1: update\n",
      "#  2: number of insts executed this update\n",
      "#  3: number of organisms\n",
      "#  4: number of different genotypes\n",
      "#  5: number of different threshold genotypes\n",
      "#  6: (deprecated) number of different species\n",
      "#  7: (deprecated) number of different threshold species\n",
      "#  8: (deprecated) number of different lineages\n",
      "#  9: number of births in this update\n",
      "# 10: number of deaths in this update\n",
      "# 11: number of breed true\n",
      "# 12: number of breed true organisms?\n",
      "# 13: number of no-birth organisms\n",
      "# 14: number of single-threaded organisms\n",
      "# 15: number of multi-threaded organisms\n",
      "# 16: number of modified organisms\n",
      "\n",
      "# Avida Dominant Data\n",
      "# Tue Oct 18 13:18:33 2016\n",
      "#  1: Update\n",
      "#  2: Average Merit of the Dominant Genotype\n",
      "#  3: Average Gestation Time of the Dominant Genotype\n",
      "#  4: Average Fitness of the Dominant Genotype\n",
      "#  5: Repro Rate?\n",
      "#  6: Size of Dominant Genotype\n",
      "#  7: Copied Size of Dominant Genotype\n",
      "#  8: Executed Size of Dominant Genotype\n",
      "#  9: Abundance of Dominant Genotype\n",
      "# 10: Number of Births\n",
      "# 11: Number of Dominant Breed True?\n",
      "# 12: Dominant Gene Depth\n",
      "# 13: Dominant Breed In\n",
      "# 14: Max Fitness?\n",
      "# 15: Genotype ID of Dominant Genotype\n",
      "# 16: Name of the Dominant Genotype\n",
      "\n",
      "# Avida resource data\n",
      "# Tue Oct 18 13:18:33 2016\n",
      "# First column gives the current update, all further columns give the quantity\n",
      "# of the particular resource at that update.\n",
      "#  1: Update\n",
      "\n",
      "0 \n",
      "# Avida time data\n",
      "# Tue Oct 18 13:18:33 2016\n",
      "#  1: update\n",
      "#  2: avida time\n",
      "#  3: average generation\n",
      "#  4: num_executed?\n",
      "\n",
      "# Avida tasks data\n",
      "# Tue Oct 18 13:18:33 2016\n",
      "# First column gives the current update, next columns give the number\n",
      "# of organisms that have the particular task as a component of their merit\n",
      "#  1: Update\n",
      "#  2: Not\n",
      "#  3: Nand\n",
      "#  4: And\n",
      "#  5: OrNot\n",
      "#  6: Or\n",
      "#  7: AndNot\n",
      "#  8: Nor\n",
      "#  9: Xor\n",
      "# 10: Equals\n",
      "\n"
     ]
    }
   ],
   "source": [
    "%%bash\n",
    "\n",
    "head -19 ../avida_files/default//data/average.dat\n",
    "head -19 ../avida_files/default/data/count.dat\n",
    "head -19 ../avida_files/default/data/dominant.dat\n",
    "head -7 ../avida_files/default/data/resource.dat\n",
    "head -7 ../avida_files/default/data/time.dat\n",
    "head -15 ../avida_files/default/data/tasks.dat"
   ]
  },
  {
   "cell_type": "code",
   "execution_count": 102,
   "metadata": {
    "collapsed": false
   },
   "outputs": [
    {
     "data": {
      "text/html": [
       "<div>\n",
       "<table border=\"1\" class=\"dataframe\">\n",
       "  <thead>\n",
       "    <tr style=\"text-align: right;\">\n",
       "      <th></th>\n",
       "      <th>update</th>\n",
       "      <th>merit</th>\n",
       "      <th>gestation_time</th>\n",
       "      <th>fitness</th>\n",
       "      <th>repro_rate</th>\n",
       "      <th>(deprecated)_size</th>\n",
       "      <th>copied_size</th>\n",
       "      <th>executed_size</th>\n",
       "      <th>(deprecated)_abundance</th>\n",
       "      <th>proportion_of_organisms_that_gave_birth_in_this_update</th>\n",
       "      <th>proportion_of_breed_true_organisms</th>\n",
       "      <th>(deprecated)_genotype_depth</th>\n",
       "      <th>generation</th>\n",
       "      <th>neutral_metric</th>\n",
       "      <th>lineage_label</th>\n",
       "      <th>true_replication_rate_(based_on_births/update_time-averaged)</th>\n",
       "    </tr>\n",
       "  </thead>\n",
       "  <tbody>\n",
       "    <tr>\n",
       "      <th>0</th>\n",
       "      <td>0</td>\n",
       "      <td>97.0000</td>\n",
       "      <td>389.000</td>\n",
       "      <td>0.000000</td>\n",
       "      <td>0</td>\n",
       "      <td>0</td>\n",
       "      <td>100.000</td>\n",
       "      <td>97.0000</td>\n",
       "      <td>0</td>\n",
       "      <td>1.000000</td>\n",
       "      <td>1.000000</td>\n",
       "      <td>0</td>\n",
       "      <td>0.00000</td>\n",
       "      <td>0.00000</td>\n",
       "      <td>0</td>\n",
       "      <td>0.0</td>\n",
       "    </tr>\n",
       "    <tr>\n",
       "      <th>1</th>\n",
       "      <td>100</td>\n",
       "      <td>97.0816</td>\n",
       "      <td>388.551</td>\n",
       "      <td>0.249858</td>\n",
       "      <td>0</td>\n",
       "      <td>0</td>\n",
       "      <td>100.041</td>\n",
       "      <td>97.0816</td>\n",
       "      <td>0</td>\n",
       "      <td>0.000000</td>\n",
       "      <td>0.000000</td>\n",
       "      <td>0</td>\n",
       "      <td>6.77551</td>\n",
       "      <td>2.09212</td>\n",
       "      <td>0</td>\n",
       "      <td>0.0</td>\n",
       "    </tr>\n",
       "    <tr>\n",
       "      <th>2</th>\n",
       "      <td>200</td>\n",
       "      <td>96.6243</td>\n",
       "      <td>390.340</td>\n",
       "      <td>0.247689</td>\n",
       "      <td>0</td>\n",
       "      <td>0</td>\n",
       "      <td>101.097</td>\n",
       "      <td>96.9282</td>\n",
       "      <td>0</td>\n",
       "      <td>0.019337</td>\n",
       "      <td>0.002762</td>\n",
       "      <td>0</td>\n",
       "      <td>14.83430</td>\n",
       "      <td>2.15712</td>\n",
       "      <td>0</td>\n",
       "      <td>0.0</td>\n",
       "    </tr>\n",
       "    <tr>\n",
       "      <th>3</th>\n",
       "      <td>300</td>\n",
       "      <td>96.6636</td>\n",
       "      <td>396.029</td>\n",
       "      <td>0.245592</td>\n",
       "      <td>0</td>\n",
       "      <td>0</td>\n",
       "      <td>102.568</td>\n",
       "      <td>98.1219</td>\n",
       "      <td>0</td>\n",
       "      <td>0.030212</td>\n",
       "      <td>0.014099</td>\n",
       "      <td>0</td>\n",
       "      <td>22.67880</td>\n",
       "      <td>2.09194</td>\n",
       "      <td>0</td>\n",
       "      <td>0.0</td>\n",
       "    </tr>\n",
       "    <tr>\n",
       "      <th>4</th>\n",
       "      <td>400</td>\n",
       "      <td>96.8318</td>\n",
       "      <td>391.400</td>\n",
       "      <td>0.247857</td>\n",
       "      <td>0</td>\n",
       "      <td>0</td>\n",
       "      <td>102.961</td>\n",
       "      <td>97.5155</td>\n",
       "      <td>0</td>\n",
       "      <td>0.043478</td>\n",
       "      <td>0.018334</td>\n",
       "      <td>0</td>\n",
       "      <td>30.44580</td>\n",
       "      <td>2.33022</td>\n",
       "      <td>0</td>\n",
       "      <td>0.0</td>\n",
       "    </tr>\n",
       "  </tbody>\n",
       "</table>\n",
       "</div>"
      ],
      "text/plain": [
       "   update    merit  gestation_time   fitness  repro_rate  (deprecated)_size  \\\n",
       "0       0  97.0000         389.000  0.000000           0                  0   \n",
       "1     100  97.0816         388.551  0.249858           0                  0   \n",
       "2     200  96.6243         390.340  0.247689           0                  0   \n",
       "3     300  96.6636         396.029  0.245592           0                  0   \n",
       "4     400  96.8318         391.400  0.247857           0                  0   \n",
       "\n",
       "   copied_size  executed_size  (deprecated)_abundance  \\\n",
       "0      100.000        97.0000                       0   \n",
       "1      100.041        97.0816                       0   \n",
       "2      101.097        96.9282                       0   \n",
       "3      102.568        98.1219                       0   \n",
       "4      102.961        97.5155                       0   \n",
       "\n",
       "   proportion_of_organisms_that_gave_birth_in_this_update  \\\n",
       "0                                           1.000000        \n",
       "1                                           0.000000        \n",
       "2                                           0.019337        \n",
       "3                                           0.030212        \n",
       "4                                           0.043478        \n",
       "\n",
       "   proportion_of_breed_true_organisms  (deprecated)_genotype_depth  \\\n",
       "0                            1.000000                            0   \n",
       "1                            0.000000                            0   \n",
       "2                            0.002762                            0   \n",
       "3                            0.014099                            0   \n",
       "4                            0.018334                            0   \n",
       "\n",
       "   generation  neutral_metric  lineage_label  \\\n",
       "0     0.00000         0.00000              0   \n",
       "1     6.77551         2.09212              0   \n",
       "2    14.83430         2.15712              0   \n",
       "3    22.67880         2.09194              0   \n",
       "4    30.44580         2.33022              0   \n",
       "\n",
       "   true_replication_rate_(based_on_births/update_time-averaged)  \n",
       "0                                                0.0             \n",
       "1                                                0.0             \n",
       "2                                                0.0             \n",
       "3                                                0.0             \n",
       "4                                                0.0             "
      ]
     },
     "execution_count": 102,
     "metadata": {},
     "output_type": "execute_result"
    }
   ],
   "source": [
    "columns = ['update','merit','gestation_time','fitness','repro_rate',\n",
    "           '(deprecated)_size','copied_size','executed_size',\n",
    "           '(deprecated)_abundance','proportion_of_organisms_that_gave_birth_in_this_update',\n",
    "           'proportion_of_breed_true_organisms','(deprecated)_genotype_depth',\n",
    "           'generation','neutral_metric','lineage_label',\n",
    "           'true_replication_rate_(based_on_births/update_time-averaged)','']\n",
    "\n",
    "df_average = pd.read_table('../avida_files/default/data/average.dat',\n",
    "                           delimiter=' ', skiprows=19, header=None)\n",
    "\n",
    "df_average.columns = columns\n",
    "df_average = df_average.dropna(axis=1)\n",
    "\n",
    "df_average.head()"
   ]
  },
  {
   "cell_type": "code",
   "execution_count": 103,
   "metadata": {
    "collapsed": false
   },
   "outputs": [
    {
     "data": {
      "text/html": [
       "<div>\n",
       "<table border=\"1\" class=\"dataframe\">\n",
       "  <thead>\n",
       "    <tr style=\"text-align: right;\">\n",
       "      <th></th>\n",
       "      <th>update</th>\n",
       "      <th>average_merit</th>\n",
       "      <th>average_gestation_time</th>\n",
       "      <th>average fitness</th>\n",
       "      <th>repro_rate</th>\n",
       "      <th>size</th>\n",
       "      <th>copied_size</th>\n",
       "      <th>executed_size</th>\n",
       "      <th>abundance</th>\n",
       "      <th>number_of_births</th>\n",
       "      <th>number_of_dominant_breed</th>\n",
       "      <th>dominant_gene_depth</th>\n",
       "      <th>dominant_breed_in</th>\n",
       "      <th>max_fitness</th>\n",
       "      <th>genotype_ID</th>\n",
       "      <th>name</th>\n",
       "    </tr>\n",
       "  </thead>\n",
       "  <tbody>\n",
       "    <tr>\n",
       "      <th>0</th>\n",
       "      <td>0</td>\n",
       "      <td>0.0</td>\n",
       "      <td>0.0</td>\n",
       "      <td>0.000000</td>\n",
       "      <td>0.000000</td>\n",
       "      <td>100</td>\n",
       "      <td>0.0</td>\n",
       "      <td>0</td>\n",
       "      <td>1</td>\n",
       "      <td>0</td>\n",
       "      <td>0</td>\n",
       "      <td>0</td>\n",
       "      <td>0</td>\n",
       "      <td>2.225070e-308</td>\n",
       "      <td>1</td>\n",
       "      <td>100-aaaaa</td>\n",
       "    </tr>\n",
       "    <tr>\n",
       "      <th>1</th>\n",
       "      <td>100</td>\n",
       "      <td>97.0</td>\n",
       "      <td>389.0</td>\n",
       "      <td>0.249357</td>\n",
       "      <td>0.002571</td>\n",
       "      <td>100</td>\n",
       "      <td>100.0</td>\n",
       "      <td>0</td>\n",
       "      <td>15</td>\n",
       "      <td>0</td>\n",
       "      <td>0</td>\n",
       "      <td>0</td>\n",
       "      <td>0</td>\n",
       "      <td>2.493570e-01</td>\n",
       "      <td>1</td>\n",
       "      <td>100-aaaaa</td>\n",
       "    </tr>\n",
       "    <tr>\n",
       "      <th>2</th>\n",
       "      <td>200</td>\n",
       "      <td>97.0</td>\n",
       "      <td>389.0</td>\n",
       "      <td>0.249357</td>\n",
       "      <td>0.002571</td>\n",
       "      <td>100</td>\n",
       "      <td>100.0</td>\n",
       "      <td>0</td>\n",
       "      <td>7</td>\n",
       "      <td>0</td>\n",
       "      <td>0</td>\n",
       "      <td>2</td>\n",
       "      <td>0</td>\n",
       "      <td>2.493570e-01</td>\n",
       "      <td>121</td>\n",
       "      <td>100-aaaat</td>\n",
       "    </tr>\n",
       "    <tr>\n",
       "      <th>3</th>\n",
       "      <td>300</td>\n",
       "      <td>98.0</td>\n",
       "      <td>385.0</td>\n",
       "      <td>0.254545</td>\n",
       "      <td>0.002597</td>\n",
       "      <td>102</td>\n",
       "      <td>102.0</td>\n",
       "      <td>0</td>\n",
       "      <td>6</td>\n",
       "      <td>0</td>\n",
       "      <td>0</td>\n",
       "      <td>9</td>\n",
       "      <td>0</td>\n",
       "      <td>2.545450e-01</td>\n",
       "      <td>1406</td>\n",
       "      <td>102-aaaac</td>\n",
       "    </tr>\n",
       "    <tr>\n",
       "      <th>4</th>\n",
       "      <td>400</td>\n",
       "      <td>85.0</td>\n",
       "      <td>358.0</td>\n",
       "      <td>0.237430</td>\n",
       "      <td>0.002793</td>\n",
       "      <td>98</td>\n",
       "      <td>98.0</td>\n",
       "      <td>0</td>\n",
       "      <td>7</td>\n",
       "      <td>0</td>\n",
       "      <td>0</td>\n",
       "      <td>10</td>\n",
       "      <td>0</td>\n",
       "      <td>2.374300e-01</td>\n",
       "      <td>2316</td>\n",
       "      <td>098-aaaal</td>\n",
       "    </tr>\n",
       "  </tbody>\n",
       "</table>\n",
       "</div>"
      ],
      "text/plain": [
       "   update  average_merit  average_gestation_time  average fitness  repro_rate  \\\n",
       "0       0            0.0                     0.0         0.000000    0.000000   \n",
       "1     100           97.0                   389.0         0.249357    0.002571   \n",
       "2     200           97.0                   389.0         0.249357    0.002571   \n",
       "3     300           98.0                   385.0         0.254545    0.002597   \n",
       "4     400           85.0                   358.0         0.237430    0.002793   \n",
       "\n",
       "   size  copied_size  executed_size  abundance  number_of_births  \\\n",
       "0   100          0.0              0          1                 0   \n",
       "1   100        100.0              0         15                 0   \n",
       "2   100        100.0              0          7                 0   \n",
       "3   102        102.0              0          6                 0   \n",
       "4    98         98.0              0          7                 0   \n",
       "\n",
       "   number_of_dominant_breed  dominant_gene_depth  dominant_breed_in  \\\n",
       "0                         0                    0                  0   \n",
       "1                         0                    0                  0   \n",
       "2                         0                    2                  0   \n",
       "3                         0                    9                  0   \n",
       "4                         0                   10                  0   \n",
       "\n",
       "     max_fitness  genotype_ID       name  \n",
       "0  2.225070e-308            1  100-aaaaa  \n",
       "1   2.493570e-01            1  100-aaaaa  \n",
       "2   2.493570e-01          121  100-aaaat  \n",
       "3   2.545450e-01         1406  102-aaaac  \n",
       "4   2.374300e-01         2316  098-aaaal  "
      ]
     },
     "execution_count": 103,
     "metadata": {},
     "output_type": "execute_result"
    }
   ],
   "source": [
    "columns = ['update','average_merit','average_gestation_time',\n",
    "           'average fitness','repro_rate','size','copied_size',\n",
    "           'executed_size','abundance','number_of_births',\n",
    "           'number_of_dominant_breed','dominant_gene_depth',\n",
    "           'dominant_breed_in','max_fitness','genotype_ID','name','']\n",
    "\n",
    "df_dominant = pd.read_table('../avida_files/default/data/dominant.dat',\n",
    "                            delimiter=' ', skiprows=19, header=None)\n",
    "\n",
    "df_dominant.columns = columns\n",
    "df_dominant = df_dominant.dropna(axis=1)\n",
    "\n",
    "df_dominant.head()"
   ]
  },
  {
   "cell_type": "code",
   "execution_count": 104,
   "metadata": {
    "collapsed": false
   },
   "outputs": [
    {
     "data": {
      "image/png": "[encoded data removed]",
      "text/plain": [
       "<matplotlib.figure.Figure at 0x7fcff4df19b0>"
      ]
     },
     "metadata": {},
     "output_type": "display_data"
    }
   ],
   "source": [
    "fig, ax = plt.subplots(1,1)\n",
    "\n",
    "ax.plot(df_average['update'], df_average['merit'], label='population merit')\n",
    "ax.plot(df_average['update'], df_dominant['average_merit'], label='dominant merit')\n",
    "\n",
    "ax.set_yscale('log', basey=10)\n",
    "\n",
    "ax.set_xlim(0,100000)\n",
    "ax.set_ylim(1,10e12)\n",
    "\n",
    "\n",
    "ax.set_xticklabels(list(range(0,11,2)))\n",
    "\n",
    "ax.set_xlabel('Updates (x$10^5$)')\n",
    "ax.set_ylabel('Computational Merit')\n",
    "\n",
    "ax.legend(loc='best');"
   ]
  },
  {
   "cell_type": "code",
   "execution_count": 105,
   "metadata": {
    "collapsed": false
   },
   "outputs": [
    {
     "data": {
      "text/plain": [
       "<matplotlib.axes._subplots.AxesSubplot at 0x7fcff521bbe0>"
      ]
     },
     "execution_count": 105,
     "metadata": {},
     "output_type": "execute_result"
    },
    {
     "data": {
      "image/png": "[encoded data removed]",
      "text/plain": [
       "<matplotlib.figure.Figure at 0x7fcff4ede7f0>"
      ]
     },
     "metadata": {},
     "output_type": "display_data"
    },
    {
     "data": {
      "image/png": "[encoded data removed]",
      "text/plain": [
       "<matplotlib.figure.Figure at 0x7fcff4ede160>"
      ]
     },
     "metadata": {},
     "output_type": "display_data"
    }
   ],
   "source": [
    "df_average.plot('update', 'gestation_time')\n",
    "df_average.plot('update', 'fitness', logy=True)"
   ]
  },
  {
   "cell_type": "code",
   "execution_count": 106,
   "metadata": {
    "collapsed": false
   },
   "outputs": [
    {
     "data": {
      "image/png": "[encoded data removed]",
      "text/plain": [
       "<matplotlib.figure.Figure at 0x7fcff4dc95f8>"
      ]
     },
     "metadata": {},
     "output_type": "display_data"
    }
   ],
   "source": [
    "fig, ax = plt.subplots(1,1)\n",
    "\n",
    "ax.plot(df_average['update'], df_average['copied_size'], label='population genome size')\n",
    "ax.plot(df_average['update'], df_dominant['copied_size'], label='dominant genome size', alpha=0.5)\n",
    "\n",
    "ax.set_xticklabels(list(range(0,11,2)))\n",
    "\n",
    "ax.set_xlabel('Updates (x$10^5$)')\n",
    "ax.set_ylabel('Genome Size')\n",
    "\n",
    "ax.legend(loc='best');"
   ]
  },
  {
   "cell_type": "code",
   "execution_count": 107,
   "metadata": {
    "collapsed": false
   },
   "outputs": [
    {
     "data": {
      "text/html": [
       "<div>\n",
       "<table border=\"1\" class=\"dataframe\">\n",
       "  <thead>\n",
       "    <tr style=\"text-align: right;\">\n",
       "      <th></th>\n",
       "      <th>update</th>\n",
       "      <th>not</th>\n",
       "      <th>nand</th>\n",
       "      <th>and</th>\n",
       "      <th>ornot</th>\n",
       "      <th>or</th>\n",
       "      <th>andnot</th>\n",
       "      <th>nor</th>\n",
       "      <th>xor</th>\n",
       "      <th>equals</th>\n",
       "    </tr>\n",
       "  </thead>\n",
       "  <tbody>\n",
       "    <tr>\n",
       "      <th>996</th>\n",
       "      <td>99600</td>\n",
       "      <td>3454</td>\n",
       "      <td>3373</td>\n",
       "      <td>3224</td>\n",
       "      <td>3364</td>\n",
       "      <td>3009</td>\n",
       "      <td>3243</td>\n",
       "      <td>3004</td>\n",
       "      <td>0</td>\n",
       "      <td>2708</td>\n",
       "    </tr>\n",
       "    <tr>\n",
       "      <th>997</th>\n",
       "      <td>99700</td>\n",
       "      <td>3418</td>\n",
       "      <td>3375</td>\n",
       "      <td>3253</td>\n",
       "      <td>3391</td>\n",
       "      <td>3012</td>\n",
       "      <td>3258</td>\n",
       "      <td>2970</td>\n",
       "      <td>0</td>\n",
       "      <td>2693</td>\n",
       "    </tr>\n",
       "    <tr>\n",
       "      <th>998</th>\n",
       "      <td>99800</td>\n",
       "      <td>3404</td>\n",
       "      <td>3362</td>\n",
       "      <td>3237</td>\n",
       "      <td>3396</td>\n",
       "      <td>2969</td>\n",
       "      <td>3288</td>\n",
       "      <td>2980</td>\n",
       "      <td>0</td>\n",
       "      <td>2669</td>\n",
       "    </tr>\n",
       "    <tr>\n",
       "      <th>999</th>\n",
       "      <td>99900</td>\n",
       "      <td>3435</td>\n",
       "      <td>3341</td>\n",
       "      <td>3215</td>\n",
       "      <td>3375</td>\n",
       "      <td>3009</td>\n",
       "      <td>3213</td>\n",
       "      <td>2987</td>\n",
       "      <td>0</td>\n",
       "      <td>2722</td>\n",
       "    </tr>\n",
       "    <tr>\n",
       "      <th>1000</th>\n",
       "      <td>100000</td>\n",
       "      <td>3450</td>\n",
       "      <td>3368</td>\n",
       "      <td>3240</td>\n",
       "      <td>3374</td>\n",
       "      <td>3018</td>\n",
       "      <td>3233</td>\n",
       "      <td>2982</td>\n",
       "      <td>0</td>\n",
       "      <td>2727</td>\n",
       "    </tr>\n",
       "  </tbody>\n",
       "</table>\n",
       "</div>"
      ],
      "text/plain": [
       "      update   not  nand   and  ornot    or  andnot   nor  xor  equals\n",
       "996    99600  3454  3373  3224   3364  3009    3243  3004    0    2708\n",
       "997    99700  3418  3375  3253   3391  3012    3258  2970    0    2693\n",
       "998    99800  3404  3362  3237   3396  2969    3288  2980    0    2669\n",
       "999    99900  3435  3341  3215   3375  3009    3213  2987    0    2722\n",
       "1000  100000  3450  3368  3240   3374  3018    3233  2982    0    2727"
      ]
     },
     "execution_count": 107,
     "metadata": {},
     "output_type": "execute_result"
    }
   ],
   "source": [
    "columns = ['update','not','nand','and','ornot','or','andnot','nor','xor','equals','']\n",
    "\n",
    "df_tasks = pd.read_table('../avida_files/default/data/tasks.dat',\n",
    "                         delimiter=' ', skiprows=15, header=None)\n",
    "\n",
    "df_tasks.columns = columns\n",
    "df_tasks = df_tasks.dropna(axis=1)\n",
    "\n",
    "df_tasks.tail()"
   ]
  },
  {
   "cell_type": "code",
   "execution_count": 108,
   "metadata": {
    "collapsed": false
   },
   "outputs": [
    {
     "data": {
      "text/plain": [
       "<matplotlib.axes._subplots.AxesSubplot at 0x7fcff4cabfd0>"
      ]
     },
     "execution_count": 108,
     "metadata": {},
     "output_type": "execute_result"
    },
    {
     "data": {
      "image/png": "[encoded data removed]",
      "text/plain": [
       "<matplotlib.figure.Figure at 0x7fcff4f70e48>"
      ]
     },
     "metadata": {},
     "output_type": "display_data"
    },
    {
     "data": {
      "image/png": "[encoded data removed]",
      "text/plain": [
       "<matplotlib.figure.Figure at 0x7fcff4c90588>"
      ]
     },
     "metadata": {},
     "output_type": "display_data"
    }
   ],
   "source": [
    "df_tasks.plot('update', ['not','nand','and','ornot'])\n",
    "df_tasks.plot('update', ['or','andnot','nor','xor','equals'])"
   ]
  },
  {
   "cell_type": "code",
   "execution_count": null,
   "metadata": {
    "collapsed": true
   },
   "outputs": [],
   "source": []
  },
  {
   "cell_type": "code",
   "execution_count": null,
   "metadata": {
    "collapsed": true
   },
   "outputs": [],
   "source": []
  },
  {
   "cell_type": "code",
   "execution_count": null,
   "metadata": {
    "collapsed": true
   },
   "outputs": [],
   "source": []
  },
  {
   "cell_type": "code",
   "execution_count": null,
   "metadata": {
    "collapsed": true
   },
   "outputs": [],
   "source": []
  },
  {
   "cell_type": "code",
   "execution_count": null,
   "metadata": {
    "collapsed": true
   },
   "outputs": [],
   "source": []
  }
 ],
 "metadata": {
  "kernelspec": {
   "display_name": "Python 3",
   "language": "python",
   "name": "python3"
  },
  "language_info": {
   "codemirror_mode": {
    "name": "ipython",
    "version": 3
   },
   "file_extension": ".py",
   "mimetype": "text/x-python",
   "name": "python",
   "nbconvert_exporter": "python",
   "pygments_lexer": "ipython3",
   "version": "3.5.2"
  }
 },
 "nbformat": 4,
 "nbformat_minor": 0
}
